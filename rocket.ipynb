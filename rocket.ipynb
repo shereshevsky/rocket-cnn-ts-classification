{
 "cells": [
  {
   "cell_type": "code",
   "execution_count": 1,
   "metadata": {},
   "outputs": [],
   "source": [
    "import numpy as np\n",
    "import pandas as pd\n",
    "import torch\n",
    "import math\n",
    "from io import BytesIO\n",
    "from zipfile import ZipFile\n",
    "from sklearn import linear_model\n",
    "from sklearn import metrics\n",
    "import seaborn as sns"
   ]
  },
  {
   "cell_type": "code",
   "execution_count": 2,
   "metadata": {},
   "outputs": [
    {
     "name": "stdout",
     "output_type": "stream",
     "text": [
      "Populating the interactive namespace from numpy and matplotlib\n"
     ]
    }
   ],
   "source": [
    "%pylab inline\n",
    "plt.style.use(\"bmh\")\n",
    "plt.rcParams[\"figure.figsize\"] = (6,6)"
   ]
  },
  {
   "cell_type": "code",
   "execution_count": 3,
   "metadata": {},
   "outputs": [],
   "source": [
    "%config Completer.use_jedi = False"
   ]
  },
  {
   "cell_type": "markdown",
   "metadata": {},
   "source": [
    "### Load Dataset"
   ]
  },
  {
   "cell_type": "code",
   "execution_count": 4,
   "metadata": {},
   "outputs": [],
   "source": [
    "DATASET = \"FordA\"\n",
    "NUM_KERNELS = 1000\n",
    "CONV_KERNELS = [7, 9, 11]"
   ]
  },
  {
   "cell_type": "code",
   "execution_count": 5,
   "metadata": {},
   "outputs": [],
   "source": [
    "with ZipFile(f\"{DATASET}.zip\") as f:\n",
    "    test = pd.read_table(BytesIO(f.read(f\"{DATASET}/{DATASET}_TEST.tsv\")), header=None)\n",
    "    train = pd.read_table(BytesIO(f.read(f\"{DATASET}/{DATASET}_TRAIN.tsv\")), header=None)"
   ]
  },
  {
   "cell_type": "code",
   "execution_count": null,
   "metadata": {},
   "outputs": [],
   "source": []
  },
  {
   "cell_type": "code",
   "execution_count": 50,
   "metadata": {},
   "outputs": [],
   "source": [
    "def prepare_rocket_features(time_series, num_kernels, conv_kernels, kernels=None) -> (np.ndarray, np.ndarray, np.ndarray):\n",
    "    \n",
    "    y = (time_series.iloc[:, 0].values + 1) / 2\n",
    "    X = time_series.iloc[:, 1:].values\n",
    "    ts_tensor = torch.from_numpy((X - X.mean(axis=1, keepdims=True)))\n",
    "    \n",
    "    num_instances = len(y)\n",
    "    ts_length = X.shape[1]\n",
    "    features = np.ndarray(shape=(num_instances, num_kernels))\n",
    "    \n",
    "    if not kernels:\n",
    "        # randomize new kernels\n",
    "        kernels = []\n",
    "        for i in range(num_kernels):\n",
    "            conv_kernel_size = np.random.choice(conv_kernels)\n",
    "            A = math.log((ts_length - 1) / (conv_kernel_size - 1), 2)\n",
    "            conv_kernel_dilation = int(2**np.random.uniform(0, A))\n",
    "            conv_padding = int(np.random.choice([0, ((conv_kernel_size - 1) * conv_kernel_dilation) / 2]))\n",
    "\n",
    "            rand_conv = torch.nn.Conv1d(in_channels = 1, \n",
    "                                        out_channels = 1, \n",
    "                                        kernel_size = conv_kernel_size,\n",
    "                                        stride=1, \n",
    "                                        padding = conv_padding,\n",
    "                                        dilation = conv_kernel_dilation,\n",
    "                                        groups=1,\n",
    "                                        bias=True,\n",
    "                                        padding_mode='zeros')\n",
    "            rand_conv.weight.data = torch.nn.Parameter(torch.from_numpy(np.random.normal(size = conv_kernel_size).reshape(1, 1, -1)))\n",
    "            kernels.append(rand_conv)\n",
    "    \n",
    "    for i, kernel in enumerate(kernels):\n",
    "        out = kernel(ts_tensor.reshape(num_instances, 1, ts_length))\n",
    "        ppv = (out>0).reshape(num_instances, -1).sum(axis=1) / ts_length\n",
    "        features[:, i] = ppv\n",
    "    \n",
    "    return X, y, features, kernels"
   ]
  },
  {
   "cell_type": "code",
   "execution_count": 51,
   "metadata": {},
   "outputs": [],
   "source": [
    "train_x, train_y, train_features, kernels = prepare_rocket_features(train, NUM_KERNELS, CONV_KERNELS)"
   ]
  },
  {
   "cell_type": "code",
   "execution_count": 53,
   "metadata": {},
   "outputs": [],
   "source": [
    "test_x, test_y, test_features, _ = prepare_rocket_features(test, NUM_KERNELS, CONV_KERNELS, kernels)"
   ]
  },
  {
   "cell_type": "code",
   "execution_count": 54,
   "metadata": {},
   "outputs": [],
   "source": [
    "log_reg = linear_model.LogisticRegression(max_iter=1000)"
   ]
  },
  {
   "cell_type": "code",
   "execution_count": 55,
   "metadata": {},
   "outputs": [
    {
     "data": {
      "text/plain": [
       "LogisticRegression(max_iter=1000)"
      ]
     },
     "execution_count": 55,
     "metadata": {},
     "output_type": "execute_result"
    }
   ],
   "source": [
    "log_reg.fit(train_features, train_y)"
   ]
  },
  {
   "cell_type": "code",
   "execution_count": 56,
   "metadata": {},
   "outputs": [],
   "source": [
    "test_pred = log_reg.predict(test_features)\n",
    "train_pred = log_reg.predict(train_features)"
   ]
  },
  {
   "cell_type": "code",
   "execution_count": 57,
   "metadata": {},
   "outputs": [
    {
     "data": {
      "text/plain": [
       "array([[616,  65],\n",
       "       [ 64, 575]])"
      ]
     },
     "execution_count": 57,
     "metadata": {},
     "output_type": "execute_result"
    }
   ],
   "source": [
    "cm = metrics.confusion_matrix(test_y, test_pred)\n",
    "cm"
   ]
  },
  {
   "cell_type": "code",
   "execution_count": 58,
   "metadata": {},
   "outputs": [
    {
     "name": "stdout",
     "output_type": "stream",
     "text": [
      "0.9022727272727272\n"
     ]
    }
   ],
   "source": [
    "score = log_reg.score(test_features, test_y)\n",
    "print(score)"
   ]
  },
  {
   "cell_type": "code",
   "execution_count": 59,
   "metadata": {},
   "outputs": [
    {
     "data": {
      "image/png": "[encoded data removed]",
      "text/plain": [
       "<Figure size 432x432 with 2 Axes>"
      ]
     },
     "metadata": {
      "needs_background": "light"
     },
     "output_type": "display_data"
    }
   ],
   "source": [
    "sns.heatmap(cm, annot=True, fmt=\".3f\", linewidths=.5, square = True, cmap = 'Blues_r');\n",
    "plt.ylabel('Actual label');\n",
    "plt.xlabel('Predicted label');\n",
    "all_sample_title = f'Accuracy Score: {score}'\n",
    "plt.title(all_sample_title, size = 15);"
   ]
  },
  {
   "cell_type": "code",
   "execution_count": null,
   "metadata": {},
   "outputs": [],
   "source": []
  },
  {
   "cell_type": "code",
   "execution_count": null,
   "metadata": {},
   "outputs": [],
   "source": []
  },
  {
   "cell_type": "code",
   "execution_count": null,
   "metadata": {},
   "outputs": [],
   "source": []
  },
  {
   "cell_type": "code",
   "execution_count": null,
   "metadata": {},
   "outputs": [],
   "source": []
  },
  {
   "cell_type": "code",
   "execution_count": null,
   "metadata": {},
   "outputs": [],
   "source": []
  }
 ],
 "metadata": {
  "kernelspec": {
   "display_name": "Python 3",
   "language": "python",
   "name": "python3"
  },
  "language_info": {
   "codemirror_mode": {
    "name": "ipython",
    "version": 3
   },
   "file_extension": ".py",
   "mimetype": "text/x-python",
   "name": "python",
   "nbconvert_exporter": "python",
   "pygments_lexer": "ipython3",
   "version": "3.9.1"
  }
 },
 "nbformat": 4,
 "nbformat_minor": 5
}
